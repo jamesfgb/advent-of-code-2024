{
 "cells": [
  {
   "cell_type": "markdown",
   "metadata": {},
   "source": [
    "## Problem 2 - Red-Nosed Reports"
   ]
  },
  {
   "cell_type": "code",
   "execution_count": 16,
   "metadata": {},
   "outputs": [
    {
     "name": "stdout",
     "output_type": "stream",
     "text": [
      "1000 \"8 11 14 16 15\n",
      "\"\n"
     ]
    }
   ],
   "source": [
    "# Read the input file\n",
    "FILENAME = 'prob02-input.txt'\n",
    "\n",
    "with open(FILENAME, encoding=\"utf-8\") as f:\n",
    "    textlines = f.readlines().copy()\n",
    "\n",
    "print(len(textlines), f'\"{textlines[0]}\"')"
   ]
  },
  {
   "cell_type": "code",
   "execution_count": 17,
   "metadata": {},
   "outputs": [
    {
     "name": "stdout",
     "output_type": "stream",
     "text": [
      "1000\n",
      "[8, 11, 14, 16, 15] [10, 11, 12, 15, 17, 20, 21]\n"
     ]
    }
   ],
   "source": [
    "# Parse each line into a list of integers i.e. a 'report'\n",
    "reports = [[int(x) for x in l.split()] for l in textlines]\n",
    "print(len(reports))\n",
    "print(reports[0], reports[-1])"
   ]
  },
  {
   "cell_type": "code",
   "execution_count": 18,
   "metadata": {},
   "outputs": [
    {
     "name": "stdout",
     "output_type": "stream",
     "text": [
      "[3, 3, 2, -1] (-1, 3)\n"
     ]
    }
   ],
   "source": [
    "# Calculate the intervals within each report, and the max and min interval for each report\n",
    "intervals = [[b-a for a,b in zip(r[:-1], r[1:])] for r in reports]\n",
    "minmax = [(min(i),max(i)) for i in intervals]\n",
    "print(intervals[0], minmax[0])"
   ]
  },
  {
   "cell_type": "code",
   "execution_count": 19,
   "metadata": {},
   "outputs": [],
   "source": [
    "# A function to identify safe reports\n",
    "# 'Safe' means the list of numbers is strictly monotonic with a max interval no more than 3\n",
    "def issafe(x):\n",
    "    if x[0] * x[1] > 0: # this implies strictly monotonic, since all intervals are the same sign\n",
    "        if max(abs(x[0]), abs(x[1])) <= 3: # this implies no interval greater than 3\n",
    "            return True\n",
    "    return False"
   ]
  },
  {
   "cell_type": "code",
   "execution_count": 20,
   "metadata": {},
   "outputs": [
    {
     "name": "stdout",
     "output_type": "stream",
     "text": [
      "472 [False, False, False, False, False, False, False, False, False, False]\n"
     ]
    }
   ],
   "source": [
    "# Test each report for safety, and count the safe total\n",
    "tests = [issafe(x) for x in minmax]\n",
    "safety = tests.count(True)\n",
    "print(safety, tests[:10])"
   ]
  },
  {
   "cell_type": "code",
   "execution_count": null,
   "metadata": {},
   "outputs": [],
   "source": []
  }
 ],
 "metadata": {
  "kernelspec": {
   "display_name": "Python 3",
   "language": "python",
   "name": "python3"
  },
  "language_info": {
   "codemirror_mode": {
    "name": "ipython",
    "version": 3
   },
   "file_extension": ".py",
   "mimetype": "text/x-python",
   "name": "python",
   "nbconvert_exporter": "python",
   "pygments_lexer": "ipython3",
   "version": "3.7.6"
  }
 },
 "nbformat": 4,
 "nbformat_minor": 4
}
